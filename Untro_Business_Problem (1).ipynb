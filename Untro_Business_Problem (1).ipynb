{
 "cells": [
  {
   "cell_type": "markdown",
   "metadata": {},
   "source": [
    "## Applied Data Science Capstone Project\n",
    "Hello and welcome, this notebook will be mainly used for the applied data science science capstone project. The final course of a specialization offered by IBM on coursera"
   ]
  },
  {
   "cell_type": "markdown",
   "metadata": {},
   "source": [
    "# 1 - Untroduction : Business Problem\n",
    "\n",
    "In this project, we will try to predict the best parameters a new firm that would invest in renting estates on AirBNB needs to take in consideration according to historical data. \n",
    " \n",
    "Given other attributes, the parameters we will consider are the price and the location of the estate. \n",
    "\n",
    "Of course, the parameters will be considered separately. And for each one of them, we will take the other as an attribute. \n",
    "\n",
    "\n",
    "Using this project we will to know :\n",
    " - Which estate to buy in which location.\n",
    " - Which price to set for each estate. \n",
    " - General understanding of the market : We will ask questions as : Are the better conditioned spaces occupied for longer periods? \n",
    " \n",
    " All this aims to maximize the firm profits. \n",
    "\n",
    "\n"
   ]
  },
  {
   "cell_type": "code",
   "execution_count": null,
   "metadata": {},
   "outputs": [],
   "source": []
  }
 ],
 "metadata": {
  "kernelspec": {
   "display_name": "Python 3",
   "language": "python",
   "name": "python3"
  },
  "language_info": {
   "codemirror_mode": {
    "name": "ipython",
    "version": 3
   },
   "file_extension": ".py",
   "mimetype": "text/x-python",
   "name": "python",
   "nbconvert_exporter": "python",
   "pygments_lexer": "ipython3",
   "version": "3.7.6"
  }
 },
 "nbformat": 4,
 "nbformat_minor": 4
}
